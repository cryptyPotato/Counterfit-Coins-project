{
 "cells": [
  {
   "cell_type": "code",
   "execution_count": 2,
   "id": "71e6bba6-7a42-4345-a499-ae148f8eaae1",
   "metadata": {},
   "outputs": [
    {
     "name": "stderr",
     "output_type": "stream",
     "text": [
      "<frozen importlib._bootstrap>:219: RuntimeWarning: scipy._lib.messagestream.MessageStream size changed, may indicate binary incompatibility. Expected 56 from C header, got 64 from PyObject\n"
     ]
    }
   ],
   "source": [
    "import numpy as np\n",
    "\n",
    "# Importing standard Qiskit libraries\n",
    "from qiskit import QuantumCircuit, transpile, Aer, IBMQ\n",
    "from qiskit.tools.jupyter import *\n",
    "from qiskit.visualization import *\n",
    "from ibm_quantum_widgets import *\n",
    "from qiskit.providers.aer import QasmSimulator\n",
    "import random\n",
    "\n",
    "\n",
    "# Loading your IBM Quantum account(s)\n",
    "provider = IBMQ.load_account()"
   ]
  },
  {
   "cell_type": "code",
   "execution_count": 8,
   "id": "828177bc-0c3b-4f06-8512-46891f57a951",
   "metadata": {},
   "outputs": [],
   "source": [
    "qc = QuantumCircuit(5,4)\n",
    "\n",
    "#a = random.randint(0,3)\n",
    "#b = random.randint(0,3)\n",
    "a = 0\n",
    "b = 3\n",
    "while a == b:\n",
    "    b = random.randint(0,3)\n",
    "\n",
    "for i in range(5):\n",
    "    qc.h(i)\n",
    "qc.z(4)\n",
    "\n",
    "qc.barrier()\n",
    "\n",
    "qc.cx(a,4)\n",
    "qc.cx(b,4)\n",
    "\n",
    "qc.barrier()\n",
    "for i in range(4):\n",
    "    qc.h(i)\n",
    "qc.barrier()\n",
    "for i in range(4):\n",
    "    qc.measure(i,i)\n",
    "\n",
    "qc.draw().savefig('circuit-5 qubit')"
   ]
  },
  {
   "cell_type": "code",
   "execution_count": 7,
   "id": "157b57f1-3d0e-4d6a-aa5a-71287a0fa642",
   "metadata": {},
   "outputs": [
    {
     "data": {
      "image/png": "[encoded data removed]",
      "text/plain": [
       "<Figure size 504x360 with 1 Axes>"
      ]
     },
     "execution_count": 7,
     "metadata": {},
     "output_type": "execute_result"
    }
   ],
   "source": [
    "backend = Aer.get_backend('qasm_simulator')\n",
    "result = backend.run(transpile(qc, backend), shots=4096).result()\n",
    "counts  = result.get_counts(qc)\n",
    "plot_histogram(counts)"
   ]
  },
  {
   "cell_type": "code",
   "execution_count": 18,
   "id": "24626f3a-210d-4f0a-a32e-ddacfeeafce3",
   "metadata": {},
   "outputs": [
    {
     "name": "stdout",
     "output_type": "stream",
     "text": [
      "Job Status: job has successfully run\n"
     ]
    }
   ],
   "source": [
    "# Run our circuit on the least busy backend. Monitor the execution of the job in the queue\n",
    "from qiskit.tools.monitor import job_monitor\n",
    "\n",
    "shots = 1024\n",
    "transpiled_bv_circuit = transpile(qc, backend)\n",
    "job = backend.run(transpiled_bv_circuit, shots=shots)\n",
    "\n",
    "job_monitor(job, interval=2)"
   ]
  },
  {
   "cell_type": "code",
   "execution_count": 17,
   "id": "c9c968a9-d22a-4b98-a190-b07278df715f",
   "metadata": {},
   "outputs": [
    {
     "name": "stderr",
     "output_type": "stream",
     "text": [
      "ibmqfactory.load_account:WARNING:2022-11-07 02:06:21,161: Credentials are already in use. The existing account in the session will be replaced.\n"
     ]
    },
    {
     "name": "stdout",
     "output_type": "stream",
     "text": [
      "least busy backend:  ibmq_manila\n"
     ]
    }
   ],
   "source": [
    "# Load our saved IBMQ accounts and get the least busy backend device with less than or equal to 5 qubits\n",
    "IBMQ.load_account()\n",
    "provider = IBMQ.get_provider(hub='ibm-q')\n",
    "from qiskit.providers.ibmq import least_busy\n",
    "provider.backends()\n",
    "backend = least_busy(provider.backends(filters=lambda x: x.configuration().n_qubits <= 5 and\n",
    "                                   x.configuration().n_qubits >= 2 and\n",
    "                                   not x.configuration().simulator and x.status().operational==True))\n",
    "print(\"least busy backend: \", backend)"
   ]
  },
  {
   "cell_type": "code",
   "execution_count": 3,
   "id": "4e2ba77e-635d-401e-9249-8e54c384f9c0",
   "metadata": {},
   "outputs": [],
   "source": [
    "qc = QuantumCircuit(9,8)\n",
    "\n",
    "a = random.randint(0,7)\n",
    "b = random.randint(0,7)\n",
    "\n",
    "while a == b:\n",
    "    b = random.randint(0,7)\n",
    "\n",
    "for i in range(9):\n",
    "    qc.h(i)\n",
    "qc.z(8)\n",
    "\n",
    "qc.barrier()\n",
    "\n",
    "qc.cx(a,8)\n",
    "qc.cx(b,8)\n",
    "\n",
    "qc.barrier()\n",
    "for i in range(8):\n",
    "    qc.h(i)\n",
    "qc.barrier()\n",
    "for i in range(8):\n",
    "    qc.measure(i,i)\n",
    "\n",
    "qc.draw().savefig('circuit-8.png')"
   ]
  },
  {
   "cell_type": "code",
   "execution_count": 4,
   "id": "a52d02a4-ef22-4953-9b13-7f855cc76077",
   "metadata": {},
   "outputs": [
    {
     "data": {
      "image/png": "[encoded data removed]",
      "text/plain": [
       "<Figure size 504x360 with 1 Axes>"
      ]
     },
     "execution_count": 4,
     "metadata": {},
     "output_type": "execute_result"
    }
   ],
   "source": [
    "backend = Aer.get_backend('qasm_simulator')\n",
    "result = backend.run(transpile(qc, backend), shots=4096).result()\n",
    "counts  = result.get_counts(qc)\n",
    "plot_histogram(counts)"
   ]
  },
  {
   "cell_type": "code",
   "execution_count": null,
   "id": "d39860f8-41c7-4672-996d-dee825c1f231",
   "metadata": {},
   "outputs": [],
   "source": []
  }
 ],
 "metadata": {
  "kernelspec": {
   "display_name": "Python 3 (ipykernel)",
   "language": "python",
   "name": "python3"
  },
  "language_info": {
   "codemirror_mode": {
    "name": "ipython",
    "version": 3
   },
   "file_extension": ".py",
   "mimetype": "text/x-python",
   "name": "python",
   "nbconvert_exporter": "python",
   "pygments_lexer": "ipython3",
   "version": "3.8.13"
  },
  "widgets": {
   "application/vnd.jupyter.widget-state+json": {
    "state": {
     "0b81200965184327b2e41a5073147e63": {
      "model_module": "@jupyter-widgets/base",
      "model_module_version": "1.2.0",
      "model_name": "LayoutModel",
      "state": {
       "grid_template_areas": "\n                                       \". . . . right \"\n                                        ",
       "grid_template_columns": "20% 20% 20% 20% 20%",
       "width": "100%"
      }
     },
     "2722187beca64a54b4526cb8cb748d6c": {
      "model_module": "@jupyter-widgets/base",
      "model_module_version": "1.2.0",
      "model_name": "LayoutModel",
      "state": {
       "grid_area": "right",
       "padding": "0px 0px 0px 0px",
       "width": "70px"
      }
     },
     "37d469b770d349d5af0eff910b556079": {
      "model_module": "@jupyter-widgets/controls",
      "model_module_version": "1.5.0",
      "model_name": "HTMLModel",
      "state": {
       "layout": "IPY_MODEL_f4ecdbab1f564ffe989ddebf400c3f68",
       "style": "IPY_MODEL_95494f0be4a7497a98fcca4c624fb236",
       "value": "<h5>Message</h5>"
      }
     },
     "451e5dbdc1ff4a3c93596598020f0c26": {
      "model_module": "@jupyter-widgets/controls",
      "model_module_version": "1.5.0",
      "model_name": "HBoxModel",
      "state": {
       "children": [
        "IPY_MODEL_facad74a006345e5919db2de2c9f8e7e",
        "IPY_MODEL_ff244baa76e14318af0e85b8a7f2b708",
        "IPY_MODEL_b6e16fdeaf7a415a890544617f2fb28c",
        "IPY_MODEL_f2b7f954307e411aa326ce105517c5c6",
        "IPY_MODEL_37d469b770d349d5af0eff910b556079"
       ],
       "layout": "IPY_MODEL_a544d2fd509144bda388dd6663248631"
      }
     },
     "656767be959e40d49d0a5a0172ece086": {
      "model_module": "@jupyter-widgets/controls",
      "model_module_version": "1.5.0",
      "model_name": "DescriptionStyleModel",
      "state": {
       "description_width": ""
      }
     },
     "79a31cc3a3bc4c9786baeba3f5ff27ef": {
      "model_module": "@jupyter-widgets/base",
      "model_module_version": "1.2.0",
      "model_name": "LayoutModel",
      "state": {
       "width": "190px"
      }
     },
     "79ef5695431c4defbff4dcf191add004": {
      "model_module": "@jupyter-widgets/controls",
      "model_module_version": "1.5.0",
      "model_name": "DescriptionStyleModel",
      "state": {
       "description_width": ""
      }
     },
     "95494f0be4a7497a98fcca4c624fb236": {
      "model_module": "@jupyter-widgets/controls",
      "model_module_version": "1.5.0",
      "model_name": "DescriptionStyleModel",
      "state": {
       "description_width": ""
      }
     },
     "958449fb63f24d75a6933672bb533811": {
      "model_module": "@jupyter-widgets/base",
      "model_module_version": "1.2.0",
      "model_name": "LayoutModel",
      "state": {
       "width": "70px"
      }
     },
     "9a5269ceba254aaa81614bbce2e7b82e": {
      "model_module": "@jupyter-widgets/base",
      "model_module_version": "1.2.0",
      "model_name": "LayoutModel",
      "state": {
       "margin": "0px 0px 10px 0px"
      }
     },
     "a544d2fd509144bda388dd6663248631": {
      "model_module": "@jupyter-widgets/base",
      "model_module_version": "1.2.0",
      "model_name": "LayoutModel",
      "state": {
       "margin": "0px 0px 0px 37px",
       "width": "600px"
      }
     },
     "ad0b95540390430d8c288e9bbe285f62": {
      "model_module": "@jupyter-widgets/controls",
      "model_module_version": "1.5.0",
      "model_name": "DescriptionStyleModel",
      "state": {
       "description_width": ""
      }
     },
     "ae8271fd0c3945c4a4af0fc2370fcb91": {
      "model_module": "@jupyter-widgets/controls",
      "model_module_version": "1.5.0",
      "model_name": "HTMLModel",
      "state": {
       "layout": "IPY_MODEL_9a5269ceba254aaa81614bbce2e7b82e",
       "style": "IPY_MODEL_be3a3660ddf04c15bfbc23f61486864a",
       "value": "<p style='font-family: IBM Plex Sans, Arial, Helvetica, sans-serif; font-size: 20px; font-weight: medium;'>Circuit Properties</p>"
      }
     },
     "b189191df5934fccae753a49984c2fd7": {
      "model_module": "@jupyter-widgets/controls",
      "model_module_version": "1.5.0",
      "model_name": "ButtonStyleModel",
      "state": {}
     },
     "b6e16fdeaf7a415a890544617f2fb28c": {
      "model_module": "@jupyter-widgets/controls",
      "model_module_version": "1.5.0",
      "model_name": "HTMLModel",
      "state": {
       "layout": "IPY_MODEL_cb94b2939c284c1fbd3f1242bfeb3892",
       "style": "IPY_MODEL_656767be959e40d49d0a5a0172ece086",
       "value": "<h5>Status</h5>"
      }
     },
     "ba0a875932764a6097aa6f7e61e21c4e": {
      "model_module": "@jupyter-widgets/base",
      "model_module_version": "1.2.0",
      "model_name": "LayoutModel",
      "state": {
       "width": "145px"
      }
     },
     "bba8b48a18c849f2891def77a0b1d286": {
      "model_module": "@jupyter-widgets/controls",
      "model_module_version": "1.5.0",
      "model_name": "ButtonModel",
      "state": {
       "button_style": "primary",
       "description": "Clear",
       "layout": "IPY_MODEL_2722187beca64a54b4526cb8cb748d6c",
       "style": "IPY_MODEL_b189191df5934fccae753a49984c2fd7"
      }
     },
     "be3a3660ddf04c15bfbc23f61486864a": {
      "model_module": "@jupyter-widgets/controls",
      "model_module_version": "1.5.0",
      "model_name": "DescriptionStyleModel",
      "state": {
       "description_width": ""
      }
     },
     "c2f82f3e0a6e4e259e09a02a5f46140f": {
      "model_module": "@jupyter-widgets/controls",
      "model_module_version": "1.5.0",
      "model_name": "DescriptionStyleModel",
      "state": {
       "description_width": ""
      }
     },
     "cb94b2939c284c1fbd3f1242bfeb3892": {
      "model_module": "@jupyter-widgets/base",
      "model_module_version": "1.2.0",
      "model_name": "LayoutModel",
      "state": {
       "width": "95px"
      }
     },
     "db67f630c024433d98c918008b0921d5": {
      "model_module": "@jupyter-widgets/controls",
      "model_module_version": "1.5.0",
      "model_name": "GridBoxModel",
      "state": {
       "children": [
        "IPY_MODEL_bba8b48a18c849f2891def77a0b1d286"
       ],
       "layout": "IPY_MODEL_0b81200965184327b2e41a5073147e63"
      }
     },
     "f2b7f954307e411aa326ce105517c5c6": {
      "model_module": "@jupyter-widgets/controls",
      "model_module_version": "1.5.0",
      "model_name": "HTMLModel",
      "state": {
       "layout": "IPY_MODEL_958449fb63f24d75a6933672bb533811",
       "style": "IPY_MODEL_ad0b95540390430d8c288e9bbe285f62",
       "value": "<h5>Queue</h5>"
      }
     },
     "f4ecdbab1f564ffe989ddebf400c3f68": {
      "model_module": "@jupyter-widgets/base",
      "model_module_version": "1.2.0",
      "model_name": "LayoutModel",
      "state": {}
     },
     "facad74a006345e5919db2de2c9f8e7e": {
      "model_module": "@jupyter-widgets/controls",
      "model_module_version": "1.5.0",
      "model_name": "HTMLModel",
      "state": {
       "layout": "IPY_MODEL_79a31cc3a3bc4c9786baeba3f5ff27ef",
       "style": "IPY_MODEL_79ef5695431c4defbff4dcf191add004",
       "value": "<h5>Job ID</h5>"
      }
     },
     "ff244baa76e14318af0e85b8a7f2b708": {
      "model_module": "@jupyter-widgets/controls",
      "model_module_version": "1.5.0",
      "model_name": "HTMLModel",
      "state": {
       "layout": "IPY_MODEL_ba0a875932764a6097aa6f7e61e21c4e",
       "style": "IPY_MODEL_c2f82f3e0a6e4e259e09a02a5f46140f",
       "value": "<h5>Backend</h5>"
      }
     }
    },
    "version_major": 2,
    "version_minor": 0
   }
  }
 },
 "nbformat": 4,
 "nbformat_minor": 5
}
